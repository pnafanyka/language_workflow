{
 "cells": [
  {
   "cell_type": "markdown",
   "id": "2968f8c5",
   "metadata": {},
   "source": [
    "# Тут были жалкие попытки напрогать парсер, за норм версией пролистай блокнот"
   ]
  },
  {
   "cell_type": "code",
   "execution_count": 8,
   "id": "3e8079d9",
   "metadata": {},
   "outputs": [],
   "source": [
    "import xml.etree.ElementTree as ET\n",
    "import pandas as pd"
   ]
  },
  {
   "cell_type": "code",
   "execution_count": 21,
   "id": "5ab284ba",
   "metadata": {},
   "outputs": [],
   "source": [
    "with open ('Downloads/Telegram Desktop/VAA_dog bublik_170822.eaf', 'r') as fox_story:\n",
    "    itr = ET.parse(fox_story)\n",
    "    root = itr.getroot()"
   ]
  },
  {
   "cell_type": "code",
   "execution_count": 22,
   "id": "1e93b2a7",
   "metadata": {},
   "outputs": [
    {
     "data": {
      "text/plain": [
       "xml.etree.ElementTree.ElementTree"
      ]
     },
     "execution_count": 22,
     "metadata": {},
     "output_type": "execute_result"
    }
   ],
   "source": [
    "type(itr)"
   ]
  },
  {
   "cell_type": "code",
   "execution_count": 23,
   "id": "c93e6e89",
   "metadata": {},
   "outputs": [],
   "source": [
    "ids = []\n",
    "for i in root.findall('.//ALIGNABLE_ANNOTATION'):\n",
    "    #print(i.find('ANNOTATION_VALUE').text, '---', i.attrib['ANNOTATION_ID'])\n",
    "    #annotations[i.attrib['ANNOTATION_ID']] = (i.find('ANNOTATION_VALUE').text)\n",
    "    ids.append(i.attrib['ANNOTATION_ID'])"
   ]
  },
  {
   "cell_type": "code",
   "execution_count": 24,
   "id": "d8b02676",
   "metadata": {
    "scrolled": true
   },
   "outputs": [],
   "source": [
    "columns = [\"Element1\", \"Element2\"]\n",
    "df = pd.DataFrame(columns=columns)"
   ]
  },
  {
   "cell_type": "code",
   "execution_count": 25,
   "id": "4ac841b1",
   "metadata": {},
   "outputs": [],
   "source": [
    "def extract_row(id): #функция возвращает массив, в котором лежат все элементы по одному id\n",
    "    row = []\n",
    "    for t in root.findall('.//ALIGNABLE_ANNOTATION'):\n",
    "        if t.attrib['ANNOTATION_ID'] == id:\n",
    "            row.append(t.find('ANNOTATION_VALUE').text)\n",
    "    for t in root.findall('.//REF_ANNOTATION'):\n",
    "        if t.attrib['ANNOTATION_REF'] == id:\n",
    "            row.append(t.find('ANNOTATION_VALUE').text)\n",
    "    return row"
   ]
  },
  {
   "cell_type": "code",
   "execution_count": 26,
   "id": "1c612cf4",
   "metadata": {},
   "outputs": [],
   "source": [
    "data = {}\n",
    "for id in ids:\n",
    "    for row_data in extract_row(id):\n",
    "        data[id] = extract_row(id)"
   ]
  },
  {
   "cell_type": "code",
   "execution_count": 27,
   "id": "86eacd2c",
   "metadata": {},
   "outputs": [],
   "source": [
    "df = pd.DataFrame(data.items())\n"
   ]
  },
  {
   "cell_type": "code",
   "execution_count": 28,
   "id": "187c06cd",
   "metadata": {},
   "outputs": [],
   "source": [
    "df.to_excel('VAA_dog bublik_170822.xlsx')"
   ]
  },
  {
   "cell_type": "markdown",
   "id": "9bc03d1d",
   "metadata": {},
   "source": [
    "## ПРОПУСК"
   ]
  },
  {
   "cell_type": "code",
   "execution_count": 9,
   "id": "f2c53b13",
   "metadata": {},
   "outputs": [],
   "source": [
    "massive = []\n",
    "for i in ids: \n",
    "    itr = []\n",
    "    for k in root.findall('.//REF_ANNOTATION'):\n",
    "        if k.attrib['ANNOTATION_REF'] == i:\n",
    "            itr.append(k.find('ANNOTATION_VALUE').text)\n",
    "    massive.append(itr)"
   ]
  },
  {
   "cell_type": "code",
   "execution_count": 12,
   "id": "64cbea54",
   "metadata": {},
   "outputs": [],
   "source": [
    "import pandas as pd"
   ]
  },
  {
   "cell_type": "code",
   "execution_count": 13,
   "id": "f01f2840",
   "metadata": {},
   "outputs": [
    {
     "ename": "AttributeError",
     "evalue": "'list' object has no attribute 'items'",
     "output_type": "error",
     "traceback": [
      "\u001b[0;31m---------------------------------------------------------------------------\u001b[0m",
      "\u001b[0;31mAttributeError\u001b[0m                            Traceback (most recent call last)",
      "Cell \u001b[0;32mIn[13], line 1\u001b[0m\n\u001b[0;32m----> 1\u001b[0m df \u001b[38;5;241m=\u001b[39m pd\u001b[38;5;241m.\u001b[39mDataFrame(\u001b[43mmassive\u001b[49m\u001b[38;5;241;43m.\u001b[39;49m\u001b[43mitems\u001b[49m())\n",
      "\u001b[0;31mAttributeError\u001b[0m: 'list' object has no attribute 'items'"
     ]
    }
   ],
   "source": [
    "df = pd.DataFrame(massive.items())"
   ]
  },
  {
   "cell_type": "code",
   "execution_count": 54,
   "id": "9b2dd728",
   "metadata": {},
   "outputs": [],
   "source": [
    "#for i in root.findall('.//REF_ANNOTATION'):\n",
    " #   print(i.find('ANNOTATION_VALUE').text, '----', i.attrib['ANNOTATION_REF'])\n",
    "   # annotations[i.attrib['ANNOTATION_REF']].append(i.find('ANNOTATION_VALUE').text)"
   ]
  },
  {
   "cell_type": "code",
   "execution_count": 5,
   "id": "2f165977",
   "metadata": {},
   "outputs": [],
   "source": [
    "checkup = []\n",
    "for i in root.findall('.//ALIGNABLE_ANNOTATION'):\n",
    "    checkup.append(i.find('ANNOTATION_VALUE').text)"
   ]
  },
  {
   "cell_type": "code",
   "execution_count": 7,
   "id": "e344b235",
   "metadata": {},
   "outputs": [],
   "source": [
    "import json"
   ]
  },
  {
   "cell_type": "code",
   "execution_count": 8,
   "id": "4164f9e5",
   "metadata": {},
   "outputs": [],
   "source": [
    "with open('checkup.json', 'w+') as outfile:\n",
    "    json.dump(checkup, outfile)"
   ]
  },
  {
   "cell_type": "code",
   "execution_count": null,
   "id": "50d9aa00",
   "metadata": {},
   "outputs": [],
   "source": [
    "results = {}\n"
   ]
  },
  {
   "cell_type": "code",
   "execution_count": 8,
   "id": "1f03f714",
   "metadata": {},
   "outputs": [
    {
     "name": "stdout",
     "output_type": "stream",
     "text": [
      "Collecting pympi-ling\n",
      "  Downloading pympi_ling-1.70.2-py2.py3-none-any.whl (24 kB)\n",
      "Installing collected packages: pympi-ling\n",
      "Successfully installed pympi-ling-1.70.2\n",
      "Note: you may need to restart the kernel to use updated packages.\n"
     ]
    }
   ],
   "source": [
    "pip install pympi-ling"
   ]
  },
  {
   "cell_type": "markdown",
   "id": "25561d73",
   "metadata": {},
   "source": [
    "# Дальше внятное\n"
   ]
  },
  {
   "cell_type": "code",
   "execution_count": 88,
   "id": "408aa34c",
   "metadata": {},
   "outputs": [],
   "source": [
    "names = {1:'DEA_raven and fox_240623.eaf', 2: 'MGI_skull tale_250722.eaf', 3:'VAA_dog bublik_170822.eaf'}"
   ]
  },
  {
   "cell_type": "code",
   "execution_count": 1,
   "id": "6949711f",
   "metadata": {},
   "outputs": [
    {
     "name": "stdout",
     "output_type": "stream",
     "text": [
      "Requirement already satisfied: pympi-ling in /Library/Frameworks/Python.framework/Versions/3.11/lib/python3.11/site-packages (1.70.2)\r\n"
     ]
    }
   ],
   "source": [
    "!pip install pympi-ling\n"
   ]
  },
  {
   "cell_type": "code",
   "execution_count": 95,
   "id": "1f7bb287",
   "metadata": {},
   "outputs": [],
   "source": [
    "import pandas as pd\n",
    "import pympi\n",
    "import numpy as np"
   ]
  },
  {
   "cell_type": "code",
   "execution_count": 3,
   "id": "a86f94af",
   "metadata": {},
   "outputs": [
    {
     "data": {
      "text/plain": [
       "['Eaf',\n",
       " 'VERSION',\n",
       " '__builtins__',\n",
       " '__cached__',\n",
       " '__doc__',\n",
       " '__file__',\n",
       " '__loader__',\n",
       " '__name__',\n",
       " '__package__',\n",
       " '__spec__',\n",
       " 'eaf_from_chat',\n",
       " 'etree',\n",
       " 'indent',\n",
       " 'parse_eaf',\n",
       " 'pathlib',\n",
       " 're',\n",
       " 'sys',\n",
       " 'time',\n",
       " 'to_eaf',\n",
       " 'warnings']"
      ]
     },
     "execution_count": 3,
     "metadata": {},
     "output_type": "execute_result"
    }
   ],
   "source": [
    "dir(pympi.Elan)"
   ]
  },
  {
   "cell_type": "code",
   "execution_count": 4,
   "id": "04a87eec",
   "metadata": {},
   "outputs": [],
   "source": [
    "eafob = pympi.Elan.Eaf('Downloads/Telegram Desktop/MGI_skull tale_250722.eaf')"
   ]
  },
  {
   "cell_type": "code",
   "execution_count": 5,
   "id": "52df8b64",
   "metadata": {},
   "outputs": [
    {
     "name": "stdout",
     "output_type": "stream",
     "text": [
      "dict_keys(['Interlinear-title-en', 'Text-txt-ynk', 'Orthography-note-ru', 'Comment-note-ru', 'Phonetic-note-ynk', 'morpheme', 'gloss', 'Translation-gls-ru', 'help'])\n"
     ]
    }
   ],
   "source": [
    "print(eafob.get_tier_names())"
   ]
  },
  {
   "cell_type": "code",
   "execution_count": 72,
   "id": "9b499fb1",
   "metadata": {},
   "outputs": [],
   "source": [
    "text, gloss = eafob.get_annotation_data_for_tier('Text-txt-ynk'), eafob.get_annotation_data_for_tier('gloss')"
   ]
  },
  {
   "cell_type": "code",
   "execution_count": 73,
   "id": "42f0f1d0",
   "metadata": {},
   "outputs": [],
   "source": [
    "for i in range(len(text)):\n",
    "    text[i] = text[i][2]\n",
    "for i in range(len(gloss)):\n",
    "    gloss[i] = gloss[i][2]"
   ]
  },
  {
   "cell_type": "code",
   "execution_count": 76,
   "id": "60f423bb",
   "metadata": {},
   "outputs": [],
   "source": [
    "list_of_tuples = list(zip(text, gloss))"
   ]
  },
  {
   "cell_type": "code",
   "execution_count": 78,
   "id": "788a3882",
   "metadata": {},
   "outputs": [],
   "source": [
    "df = pd.DataFrame(list_of_tuples, columns = ['text', 'gloss'])"
   ]
  },
  {
   "cell_type": "code",
   "execution_count": 79,
   "id": "12a832f2",
   "metadata": {},
   "outputs": [
    {
     "data": {
      "text/html": [
       "<div>\n",
       "<style scoped>\n",
       "    .dataframe tbody tr th:only-of-type {\n",
       "        vertical-align: middle;\n",
       "    }\n",
       "\n",
       "    .dataframe tbody tr th {\n",
       "        vertical-align: top;\n",
       "    }\n",
       "\n",
       "    .dataframe thead th {\n",
       "        text-align: right;\n",
       "    }\n",
       "</style>\n",
       "<table border=\"1\" class=\"dataframe\">\n",
       "  <thead>\n",
       "    <tr style=\"text-align: right;\">\n",
       "      <th></th>\n",
       "      <th>text</th>\n",
       "      <th>gloss</th>\n",
       "    </tr>\n",
       "  </thead>\n",
       "  <tbody>\n",
       "    <tr>\n",
       "      <th>0</th>\n",
       "      <td>ataːsimɨŋ</td>\n",
       "      <td>один-INST</td>\n",
       "    </tr>\n",
       "    <tr>\n",
       "      <th>1</th>\n",
       "      <td>nɨveːχsaq</td>\n",
       "      <td>девушка</td>\n",
       "    </tr>\n",
       "    <tr>\n",
       "      <th>2</th>\n",
       "      <td>ɨsimaᵘq</td>\n",
       "      <td>быть-PST-IND-3SG</td>\n",
       "    </tr>\n",
       "    <tr>\n",
       "      <th>3</th>\n",
       "      <td>nuvuqami</td>\n",
       "      <td>Наукан-LOC</td>\n",
       "    </tr>\n",
       "    <tr>\n",
       "      <th>4</th>\n",
       "      <td>uitunɨʁmɨŋ l̥ɨɣan iqj̊aːneːquq keː l̥ɨɣan</td>\n",
       "      <td>выходить.замуж-NRES-INS конечно отказаться-TRY...</td>\n",
       "    </tr>\n",
       "    <tr>\n",
       "      <th>...</th>\n",
       "      <td>...</td>\n",
       "      <td>...</td>\n",
       "    </tr>\n",
       "    <tr>\n",
       "      <th>75</th>\n",
       "      <td>asij̊kamkɨn</td>\n",
       "      <td>надеть-ROG-PROX-IND-1SG.S.2SG.O</td>\n",
       "    </tr>\n",
       "    <tr>\n",
       "      <th>76</th>\n",
       "      <td>aŋɨχtuq taːna</td>\n",
       "      <td>согласиться-PROX-IND-3SG этот</td>\n",
       "    </tr>\n",
       "    <tr>\n",
       "      <th>77</th>\n",
       "      <td>ivaːʁjaχtuʁaːam nal̥kumaː</td>\n",
       "      <td>искать-GOAL-PROX-IND-3SG.S.3SG.O=CONJ найти-PS...</td>\n",
       "    </tr>\n",
       "    <tr>\n",
       "      <th>78</th>\n",
       "      <td>utɨʁniːtaː</td>\n",
       "      <td>вернуться-?-PROX-IND-3SG.S.3SG.O</td>\n",
       "    </tr>\n",
       "    <tr>\n",
       "      <th>79</th>\n",
       "      <td>taɣʷa</td>\n",
       "      <td>вот</td>\n",
       "    </tr>\n",
       "  </tbody>\n",
       "</table>\n",
       "<p>80 rows × 2 columns</p>\n",
       "</div>"
      ],
      "text/plain": [
       "                                         text  \\\n",
       "0                                   ataːsimɨŋ   \n",
       "1                                   nɨveːχsaq   \n",
       "2                                    ɨsimaᵘq    \n",
       "3                                    nuvuqami   \n",
       "4   uitunɨʁmɨŋ l̥ɨɣan iqj̊aːneːquq keː l̥ɨɣan   \n",
       "..                                        ...   \n",
       "75                                asij̊kamkɨn   \n",
       "76                              aŋɨχtuq taːna   \n",
       "77                  ivaːʁjaχtuʁaːam nal̥kumaː   \n",
       "78                                 utɨʁniːtaː   \n",
       "79                                      taɣʷa   \n",
       "\n",
       "                                                gloss  \n",
       "0                                           один-INST  \n",
       "1                                             девушка  \n",
       "2                                    быть-PST-IND-3SG  \n",
       "3                                          Наукан-LOC  \n",
       "4   выходить.замуж-NRES-INS конечно отказаться-TRY...  \n",
       "..                                                ...  \n",
       "75                    надеть-ROG-PROX-IND-1SG.S.2SG.O  \n",
       "76                      согласиться-PROX-IND-3SG этот  \n",
       "77  искать-GOAL-PROX-IND-3SG.S.3SG.O=CONJ найти-PS...  \n",
       "78                   вернуться-?-PROX-IND-3SG.S.3SG.O  \n",
       "79                                                вот  \n",
       "\n",
       "[80 rows x 2 columns]"
      ]
     },
     "execution_count": 79,
     "metadata": {},
     "output_type": "execute_result"
    }
   ],
   "source": [
    "df"
   ]
  },
  {
   "cell_type": "code",
   "execution_count": 80,
   "id": "156e5592",
   "metadata": {},
   "outputs": [],
   "source": [
    "#interlinear_title_en = eafob.get_annotation_data_for_tier('Interlinear-title-en')\n",
    "#orthography_note_ru = eafob.get_annotation_data_for_tier('Orthography-note-ru')\n",
    "#comment_note_ru = eafob.get_annotation_data_for_tier('Comment-note-ru')\n",
    "#phonetic_note_ynk = eafob.get_annotation_data_for_tier('Phonetic-note-ynk')\n",
    "#morpheme = eafob.get_annotation_data_for_tier('morpheme')\n",
    "#translation_gls_ru = eafob.get_annotation_data_for_tier('Translation-gls-ru')"
   ]
  },
  {
   "cell_type": "code",
   "execution_count": 92,
   "id": "78516c0f",
   "metadata": {},
   "outputs": [],
   "source": [
    "df = df.drop_duplicates()"
   ]
  },
  {
   "cell_type": "code",
   "execution_count": 93,
   "id": "e91cc395",
   "metadata": {},
   "outputs": [
    {
     "data": {
      "text/plain": [
       "75"
      ]
     },
     "execution_count": 93,
     "metadata": {},
     "output_type": "execute_result"
    }
   ],
   "source": [
    "len(df['text'])"
   ]
  },
  {
   "cell_type": "code",
   "execution_count": 99,
   "id": "c7b8f634",
   "metadata": {},
   "outputs": [],
   "source": [
    "df.insert(2, \"text_id\", np.repeat(names[2], len(df['text'])))"
   ]
  },
  {
   "cell_type": "code",
   "execution_count": 101,
   "id": "73f91dfa",
   "metadata": {},
   "outputs": [
    {
     "data": {
      "text/html": [
       "<div>\n",
       "<style scoped>\n",
       "    .dataframe tbody tr th:only-of-type {\n",
       "        vertical-align: middle;\n",
       "    }\n",
       "\n",
       "    .dataframe tbody tr th {\n",
       "        vertical-align: top;\n",
       "    }\n",
       "\n",
       "    .dataframe thead th {\n",
       "        text-align: right;\n",
       "    }\n",
       "</style>\n",
       "<table border=\"1\" class=\"dataframe\">\n",
       "  <thead>\n",
       "    <tr style=\"text-align: right;\">\n",
       "      <th></th>\n",
       "      <th>text</th>\n",
       "      <th>gloss</th>\n",
       "      <th>text_id</th>\n",
       "    </tr>\n",
       "  </thead>\n",
       "  <tbody>\n",
       "    <tr>\n",
       "      <th>0</th>\n",
       "      <td>ataːsimɨŋ</td>\n",
       "      <td>один-INST</td>\n",
       "      <td>MGI_skull tale_250722.eaf</td>\n",
       "    </tr>\n",
       "    <tr>\n",
       "      <th>1</th>\n",
       "      <td>nɨveːχsaq</td>\n",
       "      <td>девушка</td>\n",
       "      <td>MGI_skull tale_250722.eaf</td>\n",
       "    </tr>\n",
       "    <tr>\n",
       "      <th>2</th>\n",
       "      <td>ɨsimaᵘq</td>\n",
       "      <td>быть-PST-IND-3SG</td>\n",
       "      <td>MGI_skull tale_250722.eaf</td>\n",
       "    </tr>\n",
       "    <tr>\n",
       "      <th>3</th>\n",
       "      <td>nuvuqami</td>\n",
       "      <td>Наукан-LOC</td>\n",
       "      <td>MGI_skull tale_250722.eaf</td>\n",
       "    </tr>\n",
       "    <tr>\n",
       "      <th>4</th>\n",
       "      <td>uitunɨʁmɨŋ l̥ɨɣan iqj̊aːneːquq keː l̥ɨɣan</td>\n",
       "      <td>выходить.замуж-NRES-INS конечно отказаться-TRY...</td>\n",
       "      <td>MGI_skull tale_250722.eaf</td>\n",
       "    </tr>\n",
       "    <tr>\n",
       "      <th>...</th>\n",
       "      <td>...</td>\n",
       "      <td>...</td>\n",
       "      <td>...</td>\n",
       "    </tr>\n",
       "    <tr>\n",
       "      <th>74</th>\n",
       "      <td>ɨnkam takilʁeːmɨŋ</td>\n",
       "      <td>потом быть.длинным-PTCP-INS</td>\n",
       "      <td>MGI_skull tale_250722.eaf</td>\n",
       "    </tr>\n",
       "    <tr>\n",
       "      <th>75</th>\n",
       "      <td>asij̊kamkɨn</td>\n",
       "      <td>надеть-ROG-PROX-IND-1SG.S.2SG.O</td>\n",
       "      <td>MGI_skull tale_250722.eaf</td>\n",
       "    </tr>\n",
       "    <tr>\n",
       "      <th>76</th>\n",
       "      <td>aŋɨχtuq taːna</td>\n",
       "      <td>согласиться-PROX-IND-3SG этот</td>\n",
       "      <td>MGI_skull tale_250722.eaf</td>\n",
       "    </tr>\n",
       "    <tr>\n",
       "      <th>77</th>\n",
       "      <td>ivaːʁjaχtuʁaːam nal̥kumaː</td>\n",
       "      <td>искать-GOAL-PROX-IND-3SG.S.3SG.O=CONJ найти-PS...</td>\n",
       "      <td>MGI_skull tale_250722.eaf</td>\n",
       "    </tr>\n",
       "    <tr>\n",
       "      <th>79</th>\n",
       "      <td>taɣʷa</td>\n",
       "      <td>вот</td>\n",
       "      <td>MGI_skull tale_250722.eaf</td>\n",
       "    </tr>\n",
       "  </tbody>\n",
       "</table>\n",
       "<p>75 rows × 3 columns</p>\n",
       "</div>"
      ],
      "text/plain": [
       "                                         text  \\\n",
       "0                                   ataːsimɨŋ   \n",
       "1                                   nɨveːχsaq   \n",
       "2                                    ɨsimaᵘq    \n",
       "3                                    nuvuqami   \n",
       "4   uitunɨʁmɨŋ l̥ɨɣan iqj̊aːneːquq keː l̥ɨɣan   \n",
       "..                                        ...   \n",
       "74                          ɨnkam takilʁeːmɨŋ   \n",
       "75                                asij̊kamkɨn   \n",
       "76                              aŋɨχtuq taːna   \n",
       "77                  ivaːʁjaχtuʁaːam nal̥kumaː   \n",
       "79                                      taɣʷa   \n",
       "\n",
       "                                                gloss  \\\n",
       "0                                           один-INST   \n",
       "1                                             девушка   \n",
       "2                                    быть-PST-IND-3SG   \n",
       "3                                          Наукан-LOC   \n",
       "4   выходить.замуж-NRES-INS конечно отказаться-TRY...   \n",
       "..                                                ...   \n",
       "74                        потом быть.длинным-PTCP-INS   \n",
       "75                    надеть-ROG-PROX-IND-1SG.S.2SG.O   \n",
       "76                      согласиться-PROX-IND-3SG этот   \n",
       "77  искать-GOAL-PROX-IND-3SG.S.3SG.O=CONJ найти-PS...   \n",
       "79                                                вот   \n",
       "\n",
       "                      text_id  \n",
       "0   MGI_skull tale_250722.eaf  \n",
       "1   MGI_skull tale_250722.eaf  \n",
       "2   MGI_skull tale_250722.eaf  \n",
       "3   MGI_skull tale_250722.eaf  \n",
       "4   MGI_skull tale_250722.eaf  \n",
       "..                        ...  \n",
       "74  MGI_skull tale_250722.eaf  \n",
       "75  MGI_skull tale_250722.eaf  \n",
       "76  MGI_skull tale_250722.eaf  \n",
       "77  MGI_skull tale_250722.eaf  \n",
       "79  MGI_skull tale_250722.eaf  \n",
       "\n",
       "[75 rows x 3 columns]"
      ]
     },
     "execution_count": 101,
     "metadata": {},
     "output_type": "execute_result"
    }
   ],
   "source": [
    "df"
   ]
  },
  {
   "cell_type": "markdown",
   "id": "5affdb56",
   "metadata": {},
   "source": [
    "### Собери это все в функции за пары и положи в коллаб. "
   ]
  },
  {
   "cell_type": "code",
   "execution_count": null,
   "id": "ebdbf62a",
   "metadata": {},
   "outputs": [],
   "source": []
  }
 ],
 "metadata": {
  "kernelspec": {
   "display_name": "Python 3 (ipykernel)",
   "language": "python",
   "name": "python3"
  },
  "language_info": {
   "codemirror_mode": {
    "name": "ipython",
    "version": 3
   },
   "file_extension": ".py",
   "mimetype": "text/x-python",
   "name": "python",
   "nbconvert_exporter": "python",
   "pygments_lexer": "ipython3",
   "version": "3.11.3"
  }
 },
 "nbformat": 4,
 "nbformat_minor": 5
}
